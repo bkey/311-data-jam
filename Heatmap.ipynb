{
 "cells": [
  {
   "cell_type": "markdown",
   "metadata": {},
   "source": [
    "# Heatmap\n",
    "\n",
    "When I first saw this challenge, I thought it would be interesting to plot all the service requests on a map and see a heatmap of the requests. I don't think this will tell me anything important, but it's always good to play around with your data to understand how it can be used."
   ]
  },
  {
   "cell_type": "code",
   "execution_count": 1,
   "metadata": {},
   "outputs": [
    {
     "data": {
      "application/vnd.jupyter.widget-view+json": {
       "model_id": "c409afc048a045ceb1e7ac373c50420e",
       "version_major": 2,
       "version_minor": 0
      },
      "text/plain": [
       "A Jupyter Widget"
      ]
     },
     "metadata": {},
     "output_type": "display_data"
    }
   ],
   "source": [
    "import os\n",
    "import gmaps\n",
    "import data_jam.models as m\n",
    "\n",
    "# Best City In The World\n",
    "NYC = (40.7128, -74.0059)\n",
    "\n",
    "# If only Google Maps didn't requrie a key...\n",
    "gmaps.configure(api_key=os.environ['GOOGLE_MAPS_API_KEY'])\n",
    "\n",
    "# Grab all the requests coordinates from the DB\n",
    "all_requests = m.ServiceRequest.lat_lngs()\n",
    "\n",
    "# Create a map of NYC\n",
    "map_fig = gmaps.figure(center=NYC, zoom_level=11)\n",
    "\n",
    "# Generate a heatmap\n",
    "heatmap = gmaps.heatmap_layer(all_requests)\n",
    "heatmap.max_intensity = 500\n",
    "map_fig.add_layer(heatmap)\n",
    "\n",
    "map_fig"
   ]
  },
  {
   "cell_type": "markdown",
   "metadata": {},
   "source": [
    "Okay, so this looks pretty, but without some constraints, there is just too much noise. Luckily, we have a database of Storms from NOAA ([source](https://www.ncdc.noaa.gov/stormevents/listevents.jsp?eventType=ALL&beginDate_mm=01&beginDate_dd=01&beginDate_yyyy=2010&endDate_mm=05&endDate_dd=31&endDate_yyyy=2017&county=BRONX%3A5&county=KINGS%3A47&county=NEW%2BYORK%3A61&county=QUEENS%3A81&county=RICHMOND%3A85&hailfilter=0.00&tornfilter=0&windfilter=000&sort=DT&submitbutton=Search&statefips=36%2CNEW+YORK)), so let's play around with that.\n",
    "\n",
    "\\*I am not a data scientist so I'm just making up terms."
   ]
  },
  {
   "cell_type": "markdown",
   "metadata": {},
   "source": [
    "# Hurricane Sandy\n",
    "\n",
    "According to Wikipedia, Hurricane Sandy hit NYC from October 29th 2012 to November 1st 2012. Since the focus of this hackathon is to observe how the 311 system responds during and in the aftermath of these events, I am going to open up the query a bit to include the month after the storm.\n",
    "\n",
    "First let's query our storm table and see what's up."
   ]
  },
  {
   "cell_type": "code",
   "execution_count": 1,
   "metadata": {},
   "outputs": [
    {
     "data": {
      "text/html": [
       "<table>\n",
       "<thead>\n",
       "<tr><th>Date      </th><th>Type         </th><th>Borough      </th><th style=\"text-align: right;\">  Deaths</th><th style=\"text-align: right;\">  Injured</th></tr>\n",
       "</thead>\n",
       "<tbody>\n",
       "<tr><td>2012-10-29</td><td>Coastal Flood</td><td>QUEENS       </td><td style=\"text-align: right;\">       7</td><td style=\"text-align: right;\">        0</td></tr>\n",
       "<tr><td>2012-10-29</td><td>Coastal Flood</td><td>BROOKLYN     </td><td style=\"text-align: right;\">       5</td><td style=\"text-align: right;\">        0</td></tr>\n",
       "<tr><td>2012-10-29</td><td>Coastal Flood</td><td>MANHATTAN    </td><td style=\"text-align: right;\">       2</td><td style=\"text-align: right;\">        0</td></tr>\n",
       "<tr><td>2012-10-29</td><td>Coastal Flood</td><td>STATEN ISLAND</td><td style=\"text-align: right;\">      23</td><td style=\"text-align: right;\">        0</td></tr>\n",
       "<tr><td>2012-10-29</td><td>Coastal Flood</td><td>QUEENS       </td><td style=\"text-align: right;\">       0</td><td style=\"text-align: right;\">        0</td></tr>\n",
       "<tr><td>2012-10-29</td><td>Coastal Flood</td><td>BRONX        </td><td style=\"text-align: right;\">       0</td><td style=\"text-align: right;\">        0</td></tr>\n",
       "<tr><td>2012-10-29</td><td>High Wind    </td><td>STATEN ISLAND</td><td style=\"text-align: right;\">       1</td><td style=\"text-align: right;\">        0</td></tr>\n",
       "<tr><td>2012-10-29</td><td>High Wind    </td><td>MANHATTAN    </td><td style=\"text-align: right;\">       1</td><td style=\"text-align: right;\">        0</td></tr>\n",
       "<tr><td>2012-10-29</td><td>High Wind    </td><td>BROOKLYN     </td><td style=\"text-align: right;\">       2</td><td style=\"text-align: right;\">        0</td></tr>\n",
       "<tr><td>2012-10-29</td><td>High Wind    </td><td>QUEENS       </td><td style=\"text-align: right;\">       1</td><td style=\"text-align: right;\">        0</td></tr>\n",
       "<tr><td>2012-10-29</td><td>High Wind    </td><td>BRONX        </td><td style=\"text-align: right;\">       0</td><td style=\"text-align: right;\">        0</td></tr>\n",
       "<tr><td>2012-10-29</td><td>High Wind    </td><td>QUEENS       </td><td style=\"text-align: right;\">       3</td><td style=\"text-align: right;\">        0</td></tr>\n",
       "<tr><td>2012-11-07</td><td>Heavy Snow   </td><td>QUEENS       </td><td style=\"text-align: right;\">       0</td><td style=\"text-align: right;\">        0</td></tr>\n",
       "<tr><td>2012-11-07</td><td>High Wind    </td><td>QUEENS       </td><td style=\"text-align: right;\">       0</td><td style=\"text-align: right;\">        0</td></tr>\n",
       "</tbody>\n",
       "</table>"
      ],
      "text/plain": [
       "<IPython.core.display.HTML object>"
      ]
     },
     "metadata": {},
     "output_type": "display_data"
    }
   ],
   "source": [
    "from datetime import date\n",
    "import tabulate\n",
    "from IPython.display import HTML, display\n",
    "import data_jam.models as m\n",
    "\n",
    "start = date(2012, 10, 29)\n",
    "end = date(2012, 11, 30)\n",
    "storms = m.Storm.select().where(m.Storm.date >= start, m.Storm.date <= end)\n",
    "headers = ('Date', 'Type', 'Borough', 'Deaths', 'Injured')\n",
    "table = []\n",
    "\n",
    "for storm in storms.iterator():\n",
    "    table.append((storm.date, storm.type, storm.borough, storm.deaths, storm.injured))\n",
    "    \n",
    "display(HTML(tabulate.tabulate(table, headers=headers, tablefmt='html')))"
   ]
  },
  {
   "cell_type": "markdown",
   "metadata": {
    "collapsed": true
   },
   "source": [
    "Talk about getting hit hard by a storm. Every borough got flodding from this storm. Knowing how rough this storm is, let's take a look at the frequency of 311 calls around the end of October 2012."
   ]
  },
  {
   "cell_type": "code",
   "execution_count": null,
   "metadata": {
    "collapsed": true
   },
   "outputs": [],
   "source": [
    "import datetime\n",
    "\n",
    "start = datetime.datetime(2012, 10, 22)\n",
    "end = datetime.datetime(2012, 11, 8)\n",
    "\n",
    "# @TODO Load up the full 311 dataset and do some count queries and \n",
    "# plot them on a line chart."
   ]
  }
 ],
 "metadata": {
  "kernelspec": {
   "display_name": "Python 3",
   "language": "python",
   "name": "python3"
  },
  "language_info": {
   "codemirror_mode": {
    "name": "ipython",
    "version": 3
   },
   "file_extension": ".py",
   "mimetype": "text/x-python",
   "name": "python",
   "nbconvert_exporter": "python",
   "pygments_lexer": "ipython3",
   "version": "3.6.2"
  }
 },
 "nbformat": 4,
 "nbformat_minor": 2
}
