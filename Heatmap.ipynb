{
 "cells": [
  {
   "cell_type": "markdown",
   "metadata": {},
   "source": [
    "# Heatmap\n",
    "\n",
    "When I first saw this challenge, I thought it would be interesting to plot all the service requests on a map and see a heatmap of the requests. I don't think this will tell me anything important, but it's always good to play around with your data to understand how it can be used."
   ]
  },
  {
   "cell_type": "code",
   "execution_count": 3,
   "metadata": {},
   "outputs": [
    {
     "data": {
      "application/vnd.jupyter.widget-view+json": {
       "model_id": "732d445be8da4c859fb5c4bc27dd1a29",
       "version_major": 2,
       "version_minor": 0
      },
      "text/plain": [
       "A Jupyter Widget"
      ]
     },
     "metadata": {},
     "output_type": "display_data"
    }
   ],
   "source": [
    "import os\n",
    "import gmaps\n",
    "import data_jam.models as m\n",
    "\n",
    "# Best City In The World\n",
    "NYC = (40.7128, -74.0059)\n",
    "\n",
    "# If only Google Maps didn't requrie a key...\n",
    "gmaps.configure(api_key=os.environ['GOOGLE_MAPS_API_KEY'])\n",
    "\n",
    "# Grab all the requests coordinates from the DB\n",
    "all_requests = m.ServiceRequest.lat_lngs()\n",
    "\n",
    "# Create a map of NYC\n",
    "map_fig = gmaps.figure(center=NYC, zoom_level=11)\n",
    "\n",
    "# Generate a heatmap\n",
    "heatmap = gmaps.heatmap_layer(all_requests)\n",
    "heatmap.max_intensity = 500\n",
    "map_fig.add_layer(heatmap)\n",
    "\n",
    "map_fig"
   ]
  },
  {
   "cell_type": "markdown",
   "metadata": {},
   "source": [
    "Okay, so this looks pretty, but without some constraints, there is just too much noise. Luckily, we have a database of Storms from NOAA ([source](https://www.ncdc.noaa.gov/stormevents/listevents.jsp?eventType=ALL&beginDate_mm=01&beginDate_dd=01&beginDate_yyyy=2010&endDate_mm=05&endDate_dd=31&endDate_yyyy=2017&county=BRONX%3A5&county=KINGS%3A47&county=NEW%2BYORK%3A61&county=QUEENS%3A81&county=RICHMOND%3A85&hailfilter=0.00&tornfilter=0&windfilter=000&sort=DT&submitbutton=Search&statefips=36%2CNEW+YORK)), so let's play around with that.\n",
    "\n",
    "\\*I am not a data scientist so I'm just making up terms."
   ]
  },
  {
   "cell_type": "markdown",
   "metadata": {},
   "source": [
    "# Hurricane Sandy\n",
    "\n",
    "According to Wikipedia, Hurricane Sandy hit NYC from October 30th 2012 to November 1st 2012. Since the focus of this hackathon is to observe how the 311 system responds during and in the aftermath of these events, I am going to open up the query a bit to include the month after the storm.\n",
    "\n",
    "First let's query our storm table and see what's up."
   ]
  },
  {
   "cell_type": "code",
   "execution_count": 4,
   "metadata": {
    "collapsed": true
   },
   "outputs": [],
   "source": [
    "from datetime import date\n",
    "\n",
    "start = date(2012, 10, 30)\n",
    "end = date(2012, 11, 30)\n",
    "storms = m.Storm.select().where(m.Storm.date >= start, m.Storm.date <= end)"
   ]
  },
  {
   "cell_type": "code",
   "execution_count": null,
   "metadata": {
    "collapsed": true
   },
   "outputs": [],
   "source": []
  }
 ],
 "metadata": {
  "kernelspec": {
   "display_name": "Python 3",
   "language": "python",
   "name": "python3"
  },
  "language_info": {
   "codemirror_mode": {
    "name": "ipython",
    "version": 3
   },
   "file_extension": ".py",
   "mimetype": "text/x-python",
   "name": "python",
   "nbconvert_exporter": "python",
   "pygments_lexer": "ipython3",
   "version": "3.6.2"
  }
 },
 "nbformat": 4,
 "nbformat_minor": 2
}
